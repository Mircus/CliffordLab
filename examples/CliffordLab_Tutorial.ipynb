{
 "cells": [
  {
   "cell_type": "markdown",
   "metadata": {},
   "source": [
    "# CliffordLab Tutorial\n",
    "\n",
    "A hands-on, well-documented notebook to experiment with **unified slice regularity** on real Clifford algebras $\\\\mathrm{Cl}(p,q)$.\n",
    "\n",
    "**What you'll do here**:\n",
    "1. Quick start with the pure-Python core (`cliffordlab.py`).\n",
    "2. Explore unified slices ($J^2=\\\\pm1$), check **CR conditions** numerically.\n",
    "3. Use **SymPy** for exact, symbolic CR checks and closed-form identities.\n",
    "4. Try a simple **Cauchy-type reconstruction** on both elliptic and hyperbolic slices.\n",
    "5. (Optional) Run the **pygae/clifford** backend.\n",
    "\n",
    "> Tip: cells are numbered and independent; feel free to jump around.\n"
   ]
  },
  {
   "cell_type": "markdown",
   "metadata": {},
   "source": [
    "## 0. Setup (optional installs)\n",
    "You can run the core without extra dependencies. For the symbolic and GA backends:\n",
    "```bash\n",
    "pip install sympy clifford\n",
    "```\n",
    "Make sure this notebook is in the same folder as:\n",
    "- `cliffordlab.py`\n",
    "- `cliffordlab_sym.py`\n",
    "- `cliffordlab_pygae.py`\n"
   ]
  },
  {
   "cell_type": "markdown",
   "metadata": {},
   "source": [
    "## 1. Quick Start (core lab)\n",
    "Let's run the minimal lab and see the output for the exponential example on both slices."
   ]
  },
  {
   "cell_type": "code",
   "execution_count": null,
   "metadata": {},
   "outputs": [],
   "source": [
    "import json\n",
    "import cliffordlab as CL\n",
    "\n",
    "out = CL.demo_basic()\n",
    "print(json.dumps(out, indent=2))"
   ]
  },
  {
   "cell_type": "markdown",
   "metadata": {},
   "source": [
    "**What to expect**\n",
    "\n",
    "- `CR_residuals` should be small numbers (close to 0) for both slices.\n",
    "- `Cauchy_reconstruction` reports a simple numerical reconstruction for $f(z_0)$ on each slice.\n",
    "  The hyperbolic case is intentionally basic; accuracy improves with better contours/quadrature."
   ]
  },
  {
   "cell_type": "markdown",
   "metadata": {},
   "source": [
    "## 2. Unified slices and CR conditions (numeric)\n",
    "We define a test function via the slice power series, then measure CR residuals at a point."
   ]
  },
  {
   "cell_type": "code",
   "execution_count": null,
   "metadata": {},
   "outputs": [],
   "source": [
    "from math import pi\n",
    "def fAB(x, y, sign):\n",
    "    return CL.slice_exp((x, y), sign, N=40)\n",
    "\n",
    "for sign, name in [(-1, 'elliptic (J^2=-1)'), (+1, 'hyperbolic (J^2=+1)')]:\n",
    "    r1, r2 = CL.CR_residuals(fAB, 0.2, 0.3, sign)\n",
    "    print(name, 'CR residuals:', r1, r2)"
   ]
  },
  {
   "cell_type": "markdown",
   "metadata": {},
   "source": [
    "## 3. Symbolic mode with SymPy\n",
    "Check CR conditions **exactly** and verify the closed forms for the slice exponential."
   ]
  },
  {
   "cell_type": "code",
   "execution_count": null,
   "metadata": {},
   "outputs": [],
   "source": [
    "import sympy as sp\n",
    "import cliffordlab_sym as SYM\n",
    "\n",
    "# Series-based symbolic CR check\n",
    "(x, y), (A, B), (r1, r2) = SYM.example_exp_symbolic(sign=-1, seriesN=40)\n",
    "print('Elliptic series CR residuals (symbolic):', sp.simplify(r1), sp.simplify(r2))\n",
    "(x, y), (A, B), (r1, r2) = SYM.example_exp_symbolic(sign=+1, seriesN=40)\n",
    "print('Hyperbolic series CR residuals (symbolic):', sp.simplify(r1), sp.simplify(r2))\n",
    "\n",
    "# Closed-form identities\n",
    "(x, y), (Ae, Be, r1e, r2e), (Ah, Bh, r1h, r2h) = SYM.example_exp_closed_forms()\n",
    "print('Closed-form CR (elliptic):', sp.simplify(r1e), sp.simplify(r2e))\n",
    "print('Closed-form CR (hyperbolic):', sp.simplify(r1h), sp.simplify(r2h))"
   ]
  },
  {
   "cell_type": "markdown",
   "metadata": {},
   "source": [
    "## 4. Cauchy-type reconstruction: accuracy vs. N\n",
    "We reconstruct $f(z_0)$ from boundary data on the slice. For the elliptic case we use a circle; for the hyperbolic case we use a spacelike rectangle. Increase `N` to observe convergence."
   ]
  },
  {
   "cell_type": "code",
   "execution_count": null,
   "metadata": {},
   "outputs": [],
   "source": [
    "# Measure reconstruction error as a function of N\n",
    "import numpy as np\n",
    "import matplotlib.pyplot as plt\n",
    "\n",
    "z0 = (0.2, 0.3)\n",
    "Ns = [100, 200, 400, 800, 1200]\n",
    "errs_e = []\n",
    "errs_h = []\n",
    "true_e = fAB(*z0, -1)\n",
    "true_h = fAB(*z0, +1)\n",
    "for N in Ns:\n",
    "    rec_e = CL.cauchy_reconstruct(fAB, z0, -1, radius=0.35, N=N)\n",
    "    rec_h = CL.cauchy_reconstruct(fAB, z0, +1, radius=0.35, N=N)\n",
    "    errs_e.append(abs(rec_e[0]-true_e[0]) + abs(rec_e[1]-true_e[1]))\n",
    "    errs_h.append(abs(rec_h[0]-true_h[0]) + abs(rec_h[1]-true_h[1]))\n",
    "plt.figure()\n",
    "plt.plot(Ns, errs_e, marker='o', label='elliptic (J^2=-1)')\n",
    "plt.plot(Ns, errs_h, marker='s', label='hyperbolic (J^2=+1)')\n",
    "plt.xlabel('N (panels)')\n",
    "plt.ylabel('L1 error of reconstruction')\n",
    "plt.title('Cauchy reconstruction error vs N')\n",
    "plt.legend()\n",
    "plt.show()"
   ]
  },
  {
   "cell_type": "markdown",
   "metadata": {},
   "source": [
    "**Notes**\n",
    "- Elliptic (circle) typically converges faster.\n",
    "- Hyperbolic (spacelike rectangle) is sensitive to the null set $x^2 - y^2 = 0$; more careful contours and Gaussian quadrature improve accuracy."
   ]
  },
  {
   "cell_type": "markdown",
   "metadata": {},
   "source": [
    "## 5. (Optional) pygae/clifford backend\n",
    "If you have `clifford` installed, you can validate $J^2$ inside $\\\\mathrm{Cl}(p,q)$ and reuse the same slice functions."
   ]
  },
  {
   "cell_type": "code",
   "execution_count": null,
   "metadata": {},
   "outputs": [],
   "source": [
    "try:\n",
    "    import cliffordlab_pygae as CGA\n",
    "    from pprint import pprint\n",
    "    pprint(CGA.example_exp_Cl31())\n",
    "except Exception as e:\n",
    "    print('pygae/clifford not installed or unavailable:', e)"
   ]
  }
 ],
 "metadata": {
  "kernelspec": {
   "display_name": "Python 3",
   "language": "python",
   "name": "python3"
  },
  "language_info": {
   "name": "python",
   "version": "3.x"
  }
 },
 "nbformat": 4,
 "nbformat_minor": 5
}
