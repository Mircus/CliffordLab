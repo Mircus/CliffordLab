{
 "cells": [
  {
   "cell_type": "markdown",
   "id": "833bdde8",
   "metadata": {},
   "source": [
    "# CliffordLab Companion Notebook\n",
    "\n",
    "This notebook accompanies the paper *Unified Slice Regularity on Clifford Algebras* (arXiv submission). It mirrors the minimal examples in the Computational Appendix and adds a few convenience utilities for quick checks.\n",
    "\n",
    "**Sections**\n",
    "1. Setup & environment\n",
    "2. CR residuals on $J^2=\\pm 1$ slices\n",
    "3. Cauchy-type reconstruction hooks\n",
    "4. Symbolic CR checks (SymPy)\n",
    "5. Micro-benchmarks\n",
    "\n",
    "> If you have the `CliffordLab` package locally, this will use it. Otherwise, the notebook will fall back to light-weight stubs so you can still inspect the workflow.\n"
   ]
  },
  {
   "cell_type": "markdown",
   "id": "60cb7fb0",
   "metadata": {},
   "source": [
    "## 1) Setup & environment"
   ]
  },
  {
   "cell_type": "code",
   "execution_count": null,
   "id": "31f29be2",
   "metadata": {},
   "outputs": [],
   "source": [
    "\n",
    "# Basic environment info (for reproducibility)\n",
    "import sys, platform, math, random, statistics, time\n",
    "print(\"Python:\", sys.version)\n",
    "print(\"Platform:\", platform.platform())\n",
    "\n",
    "# Optional imports. These are used if present.\n",
    "try:\n",
    "    import numpy as np\n",
    "    print(\"NumPy:\", np.__version__)\n",
    "except Exception as e:\n",
    "    print(\"NumPy not available:\", e)\n",
    "\n",
    "try:\n",
    "    import sympy as sp\n",
    "    print(\"SymPy:\", sp.__version__)\n",
    "except Exception as e:\n",
    "    print(\"SymPy not available:\", e)\n",
    "\n",
    "# Try to import CliffordLab. If unavailable, define stubs below.\n",
    "try:\n",
    "    import cliffordlab as CL\n",
    "    print(\"CliffordLab: available\")\n",
    "except Exception as e:\n",
    "    print(\"CliffordLab not available:\", e)\n",
    "    CL = None\n"
   ]
  },
  {
   "cell_type": "markdown",
   "id": "98672e20",
   "metadata": {},
   "source": [
    "## 2) CR residuals on $J^2 = \\pm 1$\n",
    "We evaluate generalized Cauchy–Riemann residuals on both elliptic and hyperbolic slices for the slice-exponential $e^{x+yJ}$. With `CliffordLab`, use `CL.CR_residuals` directly."
   ]
  },
  {
   "cell_type": "code",
   "execution_count": null,
   "id": "45ee6e18",
   "metadata": {},
   "outputs": [],
   "source": [
    "\n",
    "# If CliffordLab is missing, create stubs that mimic the expected API.\n",
    "if CL is None:\n",
    "    import math\n",
    "    def slice_exp(z, sign, N=40):\n",
    "        x, y = z\n",
    "        # closed-form within a slice CJ (commutative): e^{x+yJ} = e^x * (cos/sin or cosh/sinh)\n",
    "        if sign == -1:\n",
    "            A = math.exp(x) * math.cos(y)\n",
    "            B = math.exp(x) * math.sin(y)\n",
    "        else:\n",
    "            A = math.exp(x) * math.cosh(y)\n",
    "            B = math.exp(x) * math.sinh(y)\n",
    "        return A, B\n",
    "\n",
    "    def CR_residuals(fAB, x, y, sign, h=1e-5):\n",
    "        # finite-difference CR residuals:\n",
    "        # elliptic: A_x =  B_y, A_y = -B_x\n",
    "        # hyperbolic: A_x = B_y, A_y =  B_x\n",
    "        A, B = fAB(x, y, sign)\n",
    "        Ax = (fAB(x+h,y,sign)[0] - fAB(x-h,y,sign)[0])/(2*h)\n",
    "        Ay = (fAB(x,y+h,sign)[0] - fAB(x,y-h,sign)[0])/(2*h)\n",
    "        Bx = (fAB(x+h,y,sign)[1] - fAB(x-h,y,sign)[1])/(2*h)\n",
    "        By = (fAB(x,y+h,sign)[1] - fAB(x,y-h,sign)[1])/(2*h)\n",
    "        if sign == -1:\n",
    "            r1 = Ax - By\n",
    "            r2 = Ay + Bx\n",
    "        else:\n",
    "            r1 = Ax - By\n",
    "            r2 = Ay - Bx\n",
    "        return r1, r2\n",
    "\n",
    "    # expose stubs under a CL-like namespace\n",
    "    class _CLStub:\n",
    "        slice_exp = staticmethod(lambda z, sign, N=40: slice_exp(z, sign, N))\n",
    "        CR_residuals = staticmethod(lambda fAB, x, y, sign: CR_residuals(fAB, x, y, sign))\n",
    "    CL = _CLStub()\n",
    "\n",
    "def fAB(x, y, sign):\n",
    "    # Wrap slice exponential for the residual checker\n",
    "    return CL.slice_exp((x, y), sign, N=40)\n",
    "\n",
    "for sign in (-1, +1):\n",
    "    r1, r2 = CL.CR_residuals(fAB, 0.2, 0.3, sign)\n",
    "    print(f\"sign={sign:+d} residuals:\", r1, r2)\n"
   ]
  },
  {
   "cell_type": "markdown",
   "id": "b5bf4565",
   "metadata": {},
   "source": [
    "## 3) Cauchy-type reconstruction (hooks)\n",
    "Below are hooks mirroring the API from the appendix. If `CliffordLab` is not installed, we provide a placeholder implementation (no heavy numerics)."
   ]
  },
  {
   "cell_type": "code",
   "execution_count": null,
   "id": "d041527d",
   "metadata": {},
   "outputs": [],
   "source": [
    "\n",
    "# Hooks for Cauchy-type reconstruction\n",
    "if hasattr(CL, \"cauchy_reconstruct\"):\n",
    "    def cauchy_reconstruct(fAB, z0, sign, radius=0.35, N=800):\n",
    "        return CL.cauchy_reconstruct(fAB, z0, sign, radius=radius, N=N)\n",
    "else:\n",
    "    # Lightweight placeholder that simply returns direct evaluation\n",
    "    def cauchy_reconstruct(fAB, z0, sign, radius=0.35, N=800):\n",
    "        x0, y0 = z0\n",
    "        return fAB(x0, y0, sign)\n",
    "\n",
    "z0 = (0.2, 0.3)\n",
    "rec_e = cauchy_reconstruct(fAB, z0, -1, radius=0.35, N=800)\n",
    "rec_h = cauchy_reconstruct(fAB, z0, +1, radius=0.35, N=800)\n",
    "print(\"elliptic reconstruction:\", rec_e)\n",
    "print(\"hyperbolic reconstruction:\", rec_h)\n"
   ]
  },
  {
   "cell_type": "markdown",
   "id": "e2d482ce",
   "metadata": {},
   "source": [
    "## 4) Symbolic CR checks (SymPy)\n",
    "Derive the CR identities for the slice exponential in both cases. If SymPy is missing, this cell will skip."
   ]
  },
  {
   "cell_type": "code",
   "execution_count": null,
   "id": "c531d01b",
   "metadata": {},
   "outputs": [],
   "source": [
    "\n",
    "try:\n",
    "    import sympy as sp\n",
    "    x, y = sp.symbols('x y', real=True)\n",
    "    # Elliptic case (J^2 = -1): A=exp(x)cos(y), B=exp(x)sin(y)\n",
    "    Ae = sp.exp(x)*sp.cos(y)\n",
    "    Be = sp.exp(x)*sp.sin(y)\n",
    "    r1e = sp.simplify(sp.diff(Ae,x) - sp.diff(Be,y))   # should be 0\n",
    "    r2e = sp.simplify(sp.diff(Ae,y) + sp.diff(Be,x))   # should be 0\n",
    "    print(\"Elliptic CR residuals (symbolic):\", r1e, r2e)\n",
    "\n",
    "    # Hyperbolic case (J^2 = +1): A=exp(x)cosh(y), B=exp(x)sinh(y)\n",
    "    Ah = sp.exp(x)*sp.cosh(y)\n",
    "    Bh = sp.exp(x)*sp.sinh(y)\n",
    "    r1h = sp.simplify(sp.diff(Ah,x) - sp.diff(Bh,y))   # should be 0\n",
    "    r2h = sp.simplify(sp.diff(Ah,y) - sp.diff(Bh,x))   # should be 0\n",
    "    print(\"Hyperbolic CR residuals (symbolic):\", r1h, r2h)\n",
    "except Exception as e:\n",
    "    print(\"SymPy symbolic check skipped:\", e)\n"
   ]
  },
  {
   "cell_type": "markdown",
   "id": "6bf01cb6",
   "metadata": {},
   "source": [
    "## 5) Micro-benchmarks\n",
    "We provide a small timing harness you can adapt. Replace the placeholder with the true `CL.cauchy_reconstruct` when available."
   ]
  },
  {
   "cell_type": "code",
   "execution_count": null,
   "id": "ec774e7f",
   "metadata": {},
   "outputs": [],
   "source": [
    "\n",
    "import time\n",
    "\n",
    "def benchmark_slice_types(trials=50, sizes=(100, 200, 400, 800)):\n",
    "    times_elliptic, times_hyperbolic = [], []\n",
    "    for n in sizes:\n",
    "        # Elliptic\n",
    "        start = time.time()\n",
    "        for _ in range(trials):\n",
    "            _ = cauchy_reconstruct(fAB, (0.2, 0.3), -1, N=n)\n",
    "        times_elliptic.append(time.time() - start)\n",
    "\n",
    "        # Hyperbolic\n",
    "        start = time.time()\n",
    "        for _ in range(trials):\n",
    "            _ = cauchy_reconstruct(fAB, (0.2, 0.3), +1, N=n)\n",
    "        times_hyperbolic.append(time.time() - start)\n",
    "    return sizes, times_elliptic, times_hyperbolic\n",
    "\n",
    "sizes, te, th = benchmark_slice_types(trials=10, sizes=(50,100,200))\n",
    "print(\"sizes:\", sizes)\n",
    "print(\"elliptic timings:\", te)\n",
    "print(\"hyperbolic timings:\", th)\n"
   ]
  },
  {
   "cell_type": "markdown",
   "id": "99dbfe80",
   "metadata": {},
   "source": [
    "---\n",
    "**Notes**\n",
    "- For full functionality use the companion `CliffordLab` package.\n",
    "- The hooks here mirror the API shown in the paper’s appendix so you can drop in the real implementations without changing cell logic.\n",
    "- For arXiv reproducibility, consider exporting this notebook to a static HTML and linking it in your README."
   ]
  }
 ],
 "metadata": {},
 "nbformat": 4,
 "nbformat_minor": 5
}
