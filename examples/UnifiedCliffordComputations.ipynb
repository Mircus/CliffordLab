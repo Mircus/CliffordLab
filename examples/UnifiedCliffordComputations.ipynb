{
 "cells": [
  {
   "cell_type": "markdown",
   "id": "7d48661c",
   "metadata": {},
   "source": [
    "\n",
    "# Unified Clifford Computations — Notebook Scaffold\n",
    "\n",
    "This notebook bundles minimal, **extensible** scaffolds for the computational pieces referenced in your paper draft.\n",
    "\n",
    "**Contents**\n",
    "1. Cauchy–Riemann residuals on slices  \n",
    "2. Hyperbolic slice derivative test in $\\operatorname{Cl}(1,1)$  \n",
    "3. Cauchy projector (discrete) approximation on a slice  \n",
    "4. Micro-benchmarks / complexity table\n",
    "\n",
    "> **Note:** These are deliberately lightweight. Swap in your exact operators and kernels from your `CliffordLab` code where appropriate.\n"
   ]
  },
  {
   "cell_type": "markdown",
   "id": "d18539e2",
   "metadata": {},
   "source": [
    "\n",
    "## Environment\n",
    "\n",
    "- Python ≥ 3.9  \n",
    "- Packages: `numpy`, `matplotlib`, `clifford`, `nbformat` (already present while generating this file).  \n",
    "- If `clifford` is not installed, run the next cell.\n"
   ]
  },
  {
   "cell_type": "code",
   "execution_count": null,
   "id": "b7ed8ee4",
   "metadata": {},
   "outputs": [],
   "source": [
    "\n",
    "# If needed, uncomment to install. (May require internet & a proper env.)\n",
    "# %pip install clifford numpy matplotlib --quiet\n"
   ]
  },
  {
   "cell_type": "code",
   "execution_count": null,
   "id": "3bf4951d",
   "metadata": {},
   "outputs": [],
   "source": [
    "\n",
    "import numpy as np\n",
    "import matplotlib.pyplot as plt\n",
    "\n",
    "# Utilities\n",
    "def show_image_grid(Z, xs, ys, title, cmap='viridis'):\n",
    "    plt.figure(figsize=(6,5))\n",
    "    plt.imshow(Z.T, extent=[xs[0], xs[-1], ys[0], ys[-1]], origin='lower', cmap=cmap, aspect='auto')\n",
    "    plt.colorbar(label='value')\n",
    "    plt.title(title)\n",
    "    plt.xlabel('x'); plt.ylabel('y')\n",
    "    plt.show()\n"
   ]
  },
  {
   "cell_type": "markdown",
   "id": "286f7e8d",
   "metadata": {},
   "source": [
    "\n",
    "---\n",
    "## 1) Cauchy–Riemann residuals on slices\n",
    "\n",
    "A thin numerical check of a CR-like residual using forward differences along a chosen slice direction.  \n",
    "This is **illustrative** — replace the finite-difference and residual with your canonical definitions from the paper / library.\n"
   ]
  },
  {
   "cell_type": "code",
   "execution_count": null,
   "id": "7df994d7",
   "metadata": {},
   "outputs": [],
   "source": [
    "\n",
    "from clifford import Cl\n",
    "\n",
    "def make_clifford(p, q):\n",
    "    layout, blades = Cl(p, q)\n",
    "    return layout, blades\n",
    "\n",
    "# Example: polynomial f(z) = z^2 + a z + b (acts by GA multiplication)\n",
    "def poly_eval(z, a=1.0, b=0.0):\n",
    "    return z*z + a*z + b\n",
    "\n",
    "def cr_residuals(layout, blades, f, grid=(-1.5,1.5,-1.5,1.5,150), slice_key='e1', diff_key='e2'):\n",
    "    e1 = blades[slice_key]\n",
    "    e2 = blades[diff_key]\n",
    "    xs = np.linspace(grid[0], grid[1], grid[4])\n",
    "    ys = np.linspace(grid[2], grid[3], grid[4])\n",
    "    R = np.zeros((len(xs), len(ys)))\n",
    "    h = 1e-4\n",
    "    for i, x in enumerate(xs):\n",
    "        for j, y in enumerate(ys):\n",
    "            z = x + y*e1\n",
    "            # directional derivative along e2 (toy proxy for a CR component)\n",
    "            df = (f(z + h*e2) - f(z)) / h\n",
    "            # norm() exists on multivectors in 'clifford'\n",
    "            R[i, j] = float(df.norm())\n",
    "    return xs, ys, R\n",
    "\n",
    "# Run on Cl(2,0) with a quadratic\n",
    "layout, blades = make_clifford(2, 0)\n",
    "xs, ys, R = cr_residuals(layout, blades, lambda z: poly_eval(z, a=1.0, b=1.0))\n",
    "show_image_grid(R, xs, ys, \"CR-like residual (proxy) for quadratic on Cl(2,0)\")\n"
   ]
  },
  {
   "cell_type": "markdown",
   "id": "b953716e",
   "metadata": {},
   "source": [
    "\n",
    "---\n",
    "## 2) Hyperbolic slice derivative test in $\\mathrm{Cl}(1,1)$\n",
    "\n",
    "Checks that the forward-difference derivative of the slice-exponential along a hyperbolic direction matches the expected series behavior.\n"
   ]
  },
  {
   "cell_type": "code",
   "execution_count": null,
   "id": "86ee5efd",
   "metadata": {},
   "outputs": [],
   "source": [
    "\n",
    "layout11, blades11 = make_clifford(1, 1)\n",
    "e1, e2 = blades11['e1'], blades11['e2']\n",
    "\n",
    "def exp_series(x, terms=20):\n",
    "    out = 0\n",
    "    for k in range(terms):\n",
    "        out = out + (x**k)/np.math.factorial(k)\n",
    "    return out\n",
    "\n",
    "x_vals = np.linspace(-1.5, 1.5, 80)\n",
    "h = 1e-4\n",
    "num_deriv = []\n",
    "series_eval = []\n",
    "\n",
    "for x in x_vals:\n",
    "    z = x*e1           # move along hyperbolic slice\n",
    "    fz = exp_series(z, terms=30)\n",
    "    df_num = (exp_series(z + h*e1, terms=30) - fz) / h  # directional derivative\n",
    "    num_deriv.append(float(df_num[()]))   # scalar projection for a quick visual\n",
    "    series_eval.append(float(fz[()]))\n",
    "\n",
    "plt.figure(figsize=(6,4))\n",
    "plt.plot(x_vals, num_deriv, label='numeric derivative (along e1)', linewidth=2)\n",
    "plt.plot(x_vals, series_eval, '--', label='series value', linewidth=2)\n",
    "plt.title(\"Hyperbolic slice derivative test (Cl(1,1))\")\n",
    "plt.xlabel('x'); plt.ylabel('value (scalar projection)'); plt.legend(); plt.show()\n"
   ]
  },
  {
   "cell_type": "markdown",
   "id": "e9812c5a",
   "metadata": {},
   "source": [
    "\n",
    "---\n",
    "## 3) Cauchy projector (discrete) approximation on a slice\n",
    "\n",
    "A classic complex-plane Cauchy reconstruction (circle contour + trapezoid).  \n",
    "In your framework: run per-slice (elliptic/hyperbolic) with the **appropriate kernels and contours**.\n"
   ]
  },
  {
   "cell_type": "code",
   "execution_count": null,
   "id": "333a5f32",
   "metadata": {},
   "outputs": [],
   "source": [
    "\n",
    "def cauchy_projector_complex(f, pts, contour_pts=200, R=2.0):\n",
    "    theta = np.linspace(0, 2*np.pi, contour_pts, endpoint=False)\n",
    "    circle = R*np.exp(1j*theta)                # parameterized contour in C\n",
    "    dz = 1j*R*np.exp(1j*theta) * (2*np.pi/contour_pts)  # dz for trapezoid\n",
    "    f_vals = f(circle)\n",
    "    results = []\n",
    "    for z in pts:\n",
    "        integrand = f_vals / (circle - z)\n",
    "        val = np.sum(integrand * dz) / (2j*np.pi)\n",
    "        results.append(val)\n",
    "    return np.array(results)\n",
    "\n",
    "# Test: recover polynomial inside contour\n",
    "f = lambda z: z**2 + 1 + 0.2*z\n",
    "pts = np.linspace(-0.9, 0.9, 200)\n",
    "proj_vals = cauchy_projector_complex(f, pts, contour_pts=1024, R=1.5)\n",
    "\n",
    "plt.figure(figsize=(6,4))\n",
    "plt.plot(pts, f(pts).real, label=\"original (real)\")\n",
    "plt.plot(pts, proj_vals.real, '--', label=\"reconstructed (real)\")\n",
    "plt.title(\"Cauchy projector on circle (complex slice demo)\")\n",
    "plt.xlabel('x'); plt.ylabel('Re f'); plt.legend(); plt.show()\n"
   ]
  },
  {
   "cell_type": "markdown",
   "id": "2a9d8134",
   "metadata": {},
   "source": [
    "\n",
    "---\n",
    "## 4) Micro-benchmarks / complexity table\n",
    "\n",
    "Crude timings for polynomial evaluation and a toy projector. Replace with kernels from your package to get realistic profiles.\n"
   ]
  },
  {
   "cell_type": "code",
   "execution_count": null,
   "id": "78a4a0da",
   "metadata": {},
   "outputs": [],
   "source": [
    "\n",
    "import time\n",
    "\n",
    "def timing_poly_eval(degrees=(2, 4, 8, 16, 32), repeats=2000):\n",
    "    rows = []\n",
    "    z = 0.7 + 0.2j\n",
    "    for d in degrees:\n",
    "        f = lambda w: sum(w**k for k in range(d+1))\n",
    "        t0 = time.time()\n",
    "        for _ in range(repeats):\n",
    "            _ = f(z)\n",
    "        t1 = time.time()\n",
    "        rows.append((d, (t1 - t0)/repeats))\n",
    "    return rows\n",
    "\n",
    "rows = timing_poly_eval()\n",
    "print(\"Degree | Avg time per eval (s)\")\n",
    "for d, t in rows:\n",
    "    print(f\"{d:>6} | {t:.3e}\")\n"
   ]
  },
  {
   "cell_type": "markdown",
   "id": "8855c624",
   "metadata": {},
   "source": [
    "\n",
    "---\n",
    "\n",
    "### Notes & Next Steps\n",
    "\n",
    "- The CR residual in §1 is a **proxy**. Replace with your unified CR residuals for $J^2=\\pm 1$ and visualize side-by-side.\n",
    "- In §2, you can compare against your closed forms (e.g., $e^x \\cosh y$, $e^x \\sinh y$) on the hyperbolic slice.\n",
    "- In §3, swap the complex kernel with your **slice-wise Cauchy kernels** (elliptic circle vs. hyperbolic rectangle contours).\n",
    "- In §4, extend timings to cover: (i) series truncation error vs. cost, (ii) projector quadrature points vs. error/cost.\n",
    "\n",
    "Happy hacking! :)\n"
   ]
  }
 ],
 "metadata": {},
 "nbformat": 4,
 "nbformat_minor": 5
}
